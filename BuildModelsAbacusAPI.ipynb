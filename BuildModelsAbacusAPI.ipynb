{
  "cells": [
    {
      "cell_type": "code",
      "execution_count": 1,
      "id": "1ace4015",
      "metadata": {
        "id": "1ace4015",
        "colab": {
          "base_uri": "https://localhost:8080/"
        },
        "outputId": "6090aa5d-1143-40d2-b08f-19ec45f12fae"
      },
      "outputs": [
        {
          "output_type": "stream",
          "name": "stdout",
          "text": [
            "Requirement already satisfied: abacusai in /usr/local/lib/python3.7/dist-packages (0.36.4)\n",
            "Requirement already satisfied: pandas in /usr/local/lib/python3.7/dist-packages (from abacusai) (1.3.5)\n",
            "Requirement already satisfied: requests in /usr/local/lib/python3.7/dist-packages (from abacusai) (2.23.0)\n",
            "Requirement already satisfied: packaging in /usr/local/lib/python3.7/dist-packages (from abacusai) (21.3)\n",
            "Requirement already satisfied: fastavro in /usr/local/lib/python3.7/dist-packages (from abacusai) (1.4.11)\n",
            "Requirement already satisfied: pyparsing!=3.0.5,>=2.0.2 in /usr/local/lib/python3.7/dist-packages (from packaging->abacusai) (3.0.9)\n",
            "Requirement already satisfied: numpy>=1.17.3 in /usr/local/lib/python3.7/dist-packages (from pandas->abacusai) (1.21.6)\n",
            "Requirement already satisfied: pytz>=2017.3 in /usr/local/lib/python3.7/dist-packages (from pandas->abacusai) (2022.1)\n",
            "Requirement already satisfied: python-dateutil>=2.7.3 in /usr/local/lib/python3.7/dist-packages (from pandas->abacusai) (2.8.2)\n",
            "Requirement already satisfied: six>=1.5 in /usr/local/lib/python3.7/dist-packages (from python-dateutil>=2.7.3->pandas->abacusai) (1.15.0)\n",
            "Requirement already satisfied: certifi>=2017.4.17 in /usr/local/lib/python3.7/dist-packages (from requests->abacusai) (2021.10.8)\n",
            "Requirement already satisfied: urllib3!=1.25.0,!=1.25.1,<1.26,>=1.21.1 in /usr/local/lib/python3.7/dist-packages (from requests->abacusai) (1.24.3)\n",
            "Requirement already satisfied: chardet<4,>=3.0.2 in /usr/local/lib/python3.7/dist-packages (from requests->abacusai) (3.0.4)\n",
            "Requirement already satisfied: idna<3,>=2.5 in /usr/local/lib/python3.7/dist-packages (from requests->abacusai) (2.10)\n"
          ]
        }
      ],
      "source": [
        "!pip install -U abacusai"
      ]
    },
    {
      "cell_type": "code",
      "execution_count": 2,
      "id": "a1d5feac",
      "metadata": {
        "id": "a1d5feac"
      },
      "outputs": [],
      "source": [
        "import collections\n",
        "import threading\n",
        "import time\n",
        "\n",
        "from tqdm import tqdm\n",
        "import numpy as np\n",
        "import IPython.display\n",
        "\n",
        "import abacusai"
      ]
    },
    {
      "cell_type": "markdown",
      "id": "13b5208a",
      "metadata": {
        "id": "13b5208a"
      },
      "source": [
        "# Set up API client and load data"
      ]
    },
    {
      "cell_type": "code",
      "execution_count": 3,
      "id": "458ea55a",
      "metadata": {
        "id": "458ea55a"
      },
      "outputs": [],
      "source": [
        "api_key = 'c5a0c0bca947417f86f789aad7797701'\n",
        "server = 'https://abacus.ai'"
      ]
    },
    {
      "cell_type": "code",
      "execution_count": 4,
      "id": "95995fa2",
      "metadata": {
        "id": "95995fa2",
        "colab": {
          "base_uri": "https://localhost:8080/"
        },
        "outputId": "22ee5ca0-77f1-479e-abed-45c42d333d67"
      },
      "outputs": [
        {
          "output_type": "execute_result",
          "data": {
            "text/plain": [
              "<abacusai.client.ApiClient at 0x7eff95c660d0>"
            ]
          },
          "metadata": {},
          "execution_count": 4
        }
      ],
      "source": [
        "api_client = abacusai.ApiClient(api_key=api_key, server=server)\n",
        "api_client"
      ]
    },
    {
      "cell_type": "code",
      "execution_count": 5,
      "id": "78b567e6",
      "metadata": {
        "id": "78b567e6",
        "colab": {
          "base_uri": "https://localhost:8080/",
          "height": 206
        },
        "outputId": "0aea434c-df2f-4bfd-8c53-a92448c80a87"
      },
      "outputs": [
        {
          "output_type": "execute_result",
          "data": {
            "text/plain": [
              "                                       vehicle_title  \\\n",
              "0  1997 Toyota Previa Minivan LE All-Trac 3dr Min...   \n",
              "1          1997 Toyota Previa Minivan LE 3dr Minivan   \n",
              "2  1997 Toyota Previa Minivan LE All-Trac 3dr Min...   \n",
              "3  1997 Toyota Previa Minivan LE All-Trac 3dr Min...   \n",
              "4  2007 Toyota Avalon Sedan XLS 4dr Sedan (3.5L 6...   \n",
              "\n",
              "                                        review_title  \\\n",
              "0                 my 4th previa, best van ever made!   \n",
              "1                             Mom's Taxi Babies Ride   \n",
              "2                                  Best Minivan ever   \n",
              "3               Final model year of the great Previa   \n",
              "4  I'll drive this car until they take it away fr...   \n",
              "\n",
              "                                              review  \n",
              "0   1st 95 went over 300k before being totalled b...  \n",
              "1   Sold 86 Toyota Van 285K miles to be replaced ...  \n",
              "2   My 1997 AWD Previa is the third one that I ha...  \n",
              "3   An amazing vehicle: mid-engine, supercharged,...  \n",
              "4   Bought this Avy in 2007 used with 1200 miles ...  "
            ],
            "text/html": [
              "\n",
              "  <div id=\"df-e9e1aff9-9b84-4603-aa58-15075551c6bb\">\n",
              "    <div class=\"colab-df-container\">\n",
              "      <div>\n",
              "<style scoped>\n",
              "    .dataframe tbody tr th:only-of-type {\n",
              "        vertical-align: middle;\n",
              "    }\n",
              "\n",
              "    .dataframe tbody tr th {\n",
              "        vertical-align: top;\n",
              "    }\n",
              "\n",
              "    .dataframe thead th {\n",
              "        text-align: right;\n",
              "    }\n",
              "</style>\n",
              "<table border=\"1\" class=\"dataframe\">\n",
              "  <thead>\n",
              "    <tr style=\"text-align: right;\">\n",
              "      <th></th>\n",
              "      <th>vehicle_title</th>\n",
              "      <th>review_title</th>\n",
              "      <th>review</th>\n",
              "    </tr>\n",
              "  </thead>\n",
              "  <tbody>\n",
              "    <tr>\n",
              "      <th>0</th>\n",
              "      <td>1997 Toyota Previa Minivan LE All-Trac 3dr Min...</td>\n",
              "      <td>my 4th previa, best van ever made!</td>\n",
              "      <td>1st 95 went over 300k before being totalled b...</td>\n",
              "    </tr>\n",
              "    <tr>\n",
              "      <th>1</th>\n",
              "      <td>1997 Toyota Previa Minivan LE 3dr Minivan</td>\n",
              "      <td>Mom's Taxi Babies Ride</td>\n",
              "      <td>Sold 86 Toyota Van 285K miles to be replaced ...</td>\n",
              "    </tr>\n",
              "    <tr>\n",
              "      <th>2</th>\n",
              "      <td>1997 Toyota Previa Minivan LE All-Trac 3dr Min...</td>\n",
              "      <td>Best Minivan ever</td>\n",
              "      <td>My 1997 AWD Previa is the third one that I ha...</td>\n",
              "    </tr>\n",
              "    <tr>\n",
              "      <th>3</th>\n",
              "      <td>1997 Toyota Previa Minivan LE All-Trac 3dr Min...</td>\n",
              "      <td>Final model year of the great Previa</td>\n",
              "      <td>An amazing vehicle: mid-engine, supercharged,...</td>\n",
              "    </tr>\n",
              "    <tr>\n",
              "      <th>4</th>\n",
              "      <td>2007 Toyota Avalon Sedan XLS 4dr Sedan (3.5L 6...</td>\n",
              "      <td>I'll drive this car until they take it away fr...</td>\n",
              "      <td>Bought this Avy in 2007 used with 1200 miles ...</td>\n",
              "    </tr>\n",
              "  </tbody>\n",
              "</table>\n",
              "</div>\n",
              "      <button class=\"colab-df-convert\" onclick=\"convertToInteractive('df-e9e1aff9-9b84-4603-aa58-15075551c6bb')\"\n",
              "              title=\"Convert this dataframe to an interactive table.\"\n",
              "              style=\"display:none;\">\n",
              "        \n",
              "  <svg xmlns=\"http://www.w3.org/2000/svg\" height=\"24px\"viewBox=\"0 0 24 24\"\n",
              "       width=\"24px\">\n",
              "    <path d=\"M0 0h24v24H0V0z\" fill=\"none\"/>\n",
              "    <path d=\"M18.56 5.44l.94 2.06.94-2.06 2.06-.94-2.06-.94-.94-2.06-.94 2.06-2.06.94zm-11 1L8.5 8.5l.94-2.06 2.06-.94-2.06-.94L8.5 2.5l-.94 2.06-2.06.94zm10 10l.94 2.06.94-2.06 2.06-.94-2.06-.94-.94-2.06-.94 2.06-2.06.94z\"/><path d=\"M17.41 7.96l-1.37-1.37c-.4-.4-.92-.59-1.43-.59-.52 0-1.04.2-1.43.59L10.3 9.45l-7.72 7.72c-.78.78-.78 2.05 0 2.83L4 21.41c.39.39.9.59 1.41.59.51 0 1.02-.2 1.41-.59l7.78-7.78 2.81-2.81c.8-.78.8-2.07 0-2.86zM5.41 20L4 18.59l7.72-7.72 1.47 1.35L5.41 20z\"/>\n",
              "  </svg>\n",
              "      </button>\n",
              "      \n",
              "  <style>\n",
              "    .colab-df-container {\n",
              "      display:flex;\n",
              "      flex-wrap:wrap;\n",
              "      gap: 12px;\n",
              "    }\n",
              "\n",
              "    .colab-df-convert {\n",
              "      background-color: #E8F0FE;\n",
              "      border: none;\n",
              "      border-radius: 50%;\n",
              "      cursor: pointer;\n",
              "      display: none;\n",
              "      fill: #1967D2;\n",
              "      height: 32px;\n",
              "      padding: 0 0 0 0;\n",
              "      width: 32px;\n",
              "    }\n",
              "\n",
              "    .colab-df-convert:hover {\n",
              "      background-color: #E2EBFA;\n",
              "      box-shadow: 0px 1px 2px rgba(60, 64, 67, 0.3), 0px 1px 3px 1px rgba(60, 64, 67, 0.15);\n",
              "      fill: #174EA6;\n",
              "    }\n",
              "\n",
              "    [theme=dark] .colab-df-convert {\n",
              "      background-color: #3B4455;\n",
              "      fill: #D2E3FC;\n",
              "    }\n",
              "\n",
              "    [theme=dark] .colab-df-convert:hover {\n",
              "      background-color: #434B5C;\n",
              "      box-shadow: 0px 1px 3px 1px rgba(0, 0, 0, 0.15);\n",
              "      filter: drop-shadow(0px 1px 2px rgba(0, 0, 0, 0.3));\n",
              "      fill: #FFFFFF;\n",
              "    }\n",
              "  </style>\n",
              "\n",
              "      <script>\n",
              "        const buttonEl =\n",
              "          document.querySelector('#df-e9e1aff9-9b84-4603-aa58-15075551c6bb button.colab-df-convert');\n",
              "        buttonEl.style.display =\n",
              "          google.colab.kernel.accessAllowed ? 'block' : 'none';\n",
              "\n",
              "        async function convertToInteractive(key) {\n",
              "          const element = document.querySelector('#df-e9e1aff9-9b84-4603-aa58-15075551c6bb');\n",
              "          const dataTable =\n",
              "            await google.colab.kernel.invokeFunction('convertToInteractive',\n",
              "                                                     [key], {});\n",
              "          if (!dataTable) return;\n",
              "\n",
              "          const docLinkHtml = 'Like what you see? Visit the ' +\n",
              "            '<a target=\"_blank\" href=https://colab.research.google.com/notebooks/data_table.ipynb>data table notebook</a>'\n",
              "            + ' to learn more about interactive tables.';\n",
              "          element.innerHTML = '';\n",
              "          dataTable['output_type'] = 'display_data';\n",
              "          await google.colab.output.renderOutput(dataTable, element);\n",
              "          const docLink = document.createElement('div');\n",
              "          docLink.innerHTML = docLinkHtml;\n",
              "          element.appendChild(docLink);\n",
              "        }\n",
              "      </script>\n",
              "    </div>\n",
              "  </div>\n",
              "  "
            ]
          },
          "metadata": {},
          "execution_count": 5
        }
      ],
      "source": [
        "feature_group = api_client.describe_feature_group('8b6f96aa')\n",
        "data = feature_group.load_as_pandas()\n",
        "data.head()"
      ]
    },
    {
      "cell_type": "markdown",
      "id": "0935f2f8",
      "metadata": {
        "id": "0935f2f8"
      },
      "source": [
        "# Get predictions from sentiment model"
      ]
    },
    {
      "cell_type": "code",
      "execution_count": 6,
      "id": "3ec2ade2",
      "metadata": {
        "id": "3ec2ade2",
        "colab": {
          "base_uri": "https://localhost:8080/"
        },
        "outputId": "90bc8fb9-edd5-43f8-ab0f-8c896610dca0"
      },
      "outputs": [
        {
          "output_type": "execute_result",
          "data": {
            "text/plain": [
              "{'admiration': 0.011122096734024428,\n",
              " 'amusement': 0.0005833048933439076,\n",
              " 'anger': 0.0008364225831216573,\n",
              " 'annoyance': 0.0007938346446064794,\n",
              " 'approval': 0.0022172060616474,\n",
              " 'caring': 0.0006706955851472972,\n",
              " 'confusion': 0.0004855435197345739,\n",
              " 'curiosity': 0.0005260815380606611,\n",
              " 'desire': 0.0004729935069821223,\n",
              " 'disappointment': 0.0006606700039959563,\n",
              " 'disapproval': 0.0006746487853362465,\n",
              " 'disgust': 0.0003855836185036351,\n",
              " 'embarrassment': 0.00019420315884523563,\n",
              " 'excitement': 0.002207837238762706,\n",
              " 'fear': 0.00014659781698434177,\n",
              " 'gratitude': 0.0012260011991796153,\n",
              " 'grief': 0.00011197871465645072,\n",
              " 'joy': 0.011642383283344169,\n",
              " 'love': 0.993821215471438,\n",
              " 'nervousness': 0.00016667645628123717,\n",
              " 'neutral': 0.0018604800906387063,\n",
              " 'optimism': 0.0012090200608950248,\n",
              " 'pride': 0.00016631956744411256,\n",
              " 'realization': 0.000882531064327018,\n",
              " 'relief': 5.5772003104732163e-05,\n",
              " 'remorse': 7.353746443918921e-05,\n",
              " 'sadness': 0.0005549830029762105,\n",
              " 'surprise': 0.00029549331878569063}"
            ]
          },
          "metadata": {},
          "execution_count": 6
        }
      ],
      "source": [
        "from abacusai import PredictionClient\n",
        "client = PredictionClient()\n",
        "client.get_sentiment(deployment_token='9bc6d5bad8f144aa92da6a5fe1019671', deployment_id='16b7a3a714', document=\"I love my car!\")"
      ]
    },
    {
      "cell_type": "code",
      "execution_count": 7,
      "id": "fd4c041f",
      "metadata": {
        "id": "fd4c041f"
      },
      "outputs": [],
      "source": [
        "sent_deployment_token = '9bc6d5bad8f144aa92da6a5fe1019671'\n",
        "sent_deployment_id = '16b7a3a714'"
      ]
    },
    {
      "cell_type": "code",
      "execution_count": 8,
      "id": "a7746606",
      "metadata": {
        "id": "a7746606",
        "colab": {
          "base_uri": "https://localhost:8080/"
        },
        "outputId": "1ae58838-9138-4803-a509-feb932fc3874"
      },
      "outputs": [
        {
          "output_type": "stream",
          "name": "stderr",
          "text": [
            "100%|██████████| 100/100 [00:49<00:00,  2.01it/s]\n"
          ]
        }
      ],
      "source": [
        "tqdm._instances.clear()\n",
        "sample_texts = data['review'][:100]\n",
        "sentiments = [\n",
        "    client.get_sentiment(\n",
        "        deployment_token=sent_deployment_token,\n",
        "        deployment_id=sent_deployment_id,\n",
        "        document=text\n",
        "    )\n",
        "    for text in tqdm(sample_texts)\n",
        "]"
      ]
    },
    {
      "cell_type": "code",
      "execution_count": 9,
      "id": "b4aae3d8",
      "metadata": {
        "id": "b4aae3d8",
        "colab": {
          "base_uri": "https://localhost:8080/"
        },
        "outputId": "148bf631-8ac7-4174-e6c2-35aaa3034935"
      },
      "outputs": [
        {
          "output_type": "stream",
          "name": "stdout",
          "text": [
            "Top scoring texts for: \"joy\"\n",
            "\n",
            "0.9765579227783318\n",
            " Sold 86 Toyota Van 285K miles to be replaced with 97 Previa with 1st baby coming in Jun. Perfect to carry 2nd kid in 99. Also carried Mom, Dad, Father-in-law to doctor's appt. Use mostly for reserve weekend duty. Did not change remote bat 6 yrs later. Did reg maint oil/filter chg every 3K. Used in business for 6 yrs as modified pick up truck by removing middle seat & folding 3rd row. Kids love this because they can lie down and sleep and watch tv. Our kids and parents in their 80s enjoyed trips to NY, VA, FL, LA, GA, TN, SC, NC, AL, TX, MA, CO. With this economy we are glad to have Toyotas in our family. Camry 02 replaced 88 Celica. Convinced five younger brothers to get Toyotas. They did.\n",
            "\n",
            "0.9703472903251203\n",
            " I've had the XL model since Aug. '07 and have about 6500K ultra-enjoyable miles on it. I've had two Beemers and an Infinity, also enjoyed them very much, but the Avalon is special in that it's smooth, quiet, fairly ecnomical on gas, considering its size. I use regular octane -- also Plus and Premium at times. I also have found the cloth/velour seats to be very practical -- warm on cold days, cool on hot ones. Transmission-wise, it just knows when to shift for you -- it's really a symbiotic relationship between car and driver, to use that analogy. The driver's seat needs more back support, though. So, I'll rate this car as a 9-1/2 -- ALMOST PERFECT -- but then again, nothing's perfect\n",
            "\n",
            "0.9524025529045689\n",
            " I traded my 2002 Avalon XL in on a 2007 XLS.  I wish I had the 2002 back. It was much quieter and had more stability.  The 2007 engine is noisy and often clatters like a diesel.  Dealership says that is normal??  I just hope that it does not finally fail while I am on a long trip 2000 miles from home.  I enjoy driving the car but would feel much more at ease if the engine were not so noisy and the transmission shifted smoother.  The rear vision from the car when backing is also very limited.  Knowing where the rear of the car is questionable.  I like the interior and the entertainment system.  Paint also chips very easy.  Dealer blamed it on the EPA.\n",
            "\n",
            "0.8204210805903909\n",
            " I bought this car after doing a lot of research and was initially quite happy with it.  Over the 15 months that I had it, it was in the shop twice for rattles, and twice to have the oxygen sensor issue fixed, for a total of about 7 or 8 days without the car, most was related to the sensors. It had another annoying rattle in the dash when I got rid of it.   These may have all started after I had XM added to the car, but that doesn't make the rattles go away.   I traded it in for a non-Toyota vehicle after 6500 miles. \n",
            "\n",
            "0.5697039777405213\n",
            " I bought the Avalon Touring XLE model in March 2013. Initially, I was a bit disappointed in the quality of the ride. I thought there was too much road feel.This October, I drove it to Ohio and Indiana from Florida. It performed amazingly andI am now smitten with this machine.I really enjoy driving it and on a smooth road, it is terrific.I am averaging nearly 30 mpg . My driving is all at 60mph where I live . No regrets on this purchase.Update 2016 : I love this car. I looked at the new models that came out this year and I think the 2013 looks better.Update 2018: This car still  impresses me. Most of my driving is at 60 mph. In a rural area with a 30 mile drive to a grocery, this is a pleasure to drive.  The appearance is great and I am still getting compliments from passengers about rear legroom, comfort etc. Currently at  34000 miles on odometer. Plan to keep this for a long time.\n",
            "\n"
          ]
        }
      ],
      "source": [
        "query = 'joy'\n",
        "print(f'Top scoring texts for: \"{query}\"\\n')\n",
        "scores = [s[query] for s in sentiments]\n",
        "arg_sort = np.argsort(-np.array(scores))\n",
        "for i in arg_sort[:5]:\n",
        "    print(scores[i])\n",
        "    print(sample_texts[i])\n",
        "    print('')"
      ]
    },
    {
      "cell_type": "code",
      "execution_count": 10,
      "id": "30a99586",
      "metadata": {
        "id": "30a99586",
        "colab": {
          "base_uri": "https://localhost:8080/"
        },
        "outputId": "4ef8e059-5ff1-4cab-c5b7-751c6728191d"
      },
      "outputs": [
        {
          "output_type": "stream",
          "name": "stdout",
          "text": [
            "Top scoring texts for: \"annoyance\"\n",
            "\n",
            "0.9876571410165871\n",
            " I bought my 2011 Avalon Limited new in Dec.2011. It is not the same quality of my two previous Avalons.Last one was 2002 with 176K miles and it ran smoother and quieter than the new one. Wind comes in window, I'm told it's normal due to mirrow (doesn't do it on passenger side). Rides rough, worse than my husbands F250 4x4 diesel. Lots and lots of road noise.Not a quiet car at all. Rear passenger window broke (fixed now), rear reclining seat broke (part ordered). Brakes feel mushy, Struts seem non-existent. Car really sat low when 2 adults and 2 teens with 4 bags packed (not heavy..trunk too small to pack much). Toyota dealer tells me everything is normal and up to Toyota specs. Bad Car!!\n",
            "\n",
            "0.9837900807035953\n",
            " Overall our ‘13 Avalon is a compromise  in meeting our expectations for comfort, quasi-sportiness, and initial quality.  Best features include the space for 6’-4” legs and the visibility afforded to urban driving conditions.  Mechanically, the vehicle is Toyota solid.  Power-plant and powertrain deliver almost exhilarating and  smooth performance.  What’s annoying is the mediocre workmanship within the cabin’s interior.  This car is highway driven >80% in Southern California’s vastly fair weather.  Road noise is distractingly noticeable.. Headliner at the top edge of rear window and sewing/anchoring of driver-front leather seat (lowest front edge) have detached themselves. Adhesives or sewing required.  The ride is a tad light - meaning not stout/solid and stable.   Strictly applying  money spent vesus a quality product in return, it would have been worth spending it elsewhere.\n",
            "\n",
            "0.8721080105447553\n",
            "  I have been a happy Toyota customer all my adult life (now 55 and had only one non-toyota).I am very frustrated with this car.I suppose if one has low expectations, then this is the car for you..I feel like a sucker for purchasing it..I feel like I have a 'super Corolla',... not at all the car I wanted to give my wife.We purchased this car for long rides, and I only see this being acceptable for around town.Toyota has taught me a lesson I will not forget.It seems to me that Toyota has left the upscale market, and is leaving that for Lexus' territory.Seriously, I'm not being too harsh.Check it out for yourself.\n",
            "\n",
            "0.3928457595691044\n",
            " Everything seems to be perfect with 2013 Avalon.But, unfortunately, the clock is awful, to say the least.It is not digital, and you can only read 3, 6, 9, and 12 o'clock, or 15, 30, and 45 minutes.In-between there are no marks.So, one literally has to stare at the clock for a minute to judge the positions of hour and minute handles in order to figure out the exact time.A clock inside a car should be functional not for decoration purpose, because when one is driving on the highway, he has only microseconds to read the clock without causing an accident.It is totally beyond me why Toyota \"design\" a clock that people can't read the time from. \n",
            "\n",
            "0.29044070500992925\n",
            " Really got sucked in by the new and beautiful exterior of the 2013 Avalon.Only to find it so very uncomfortable compared to my 2011.Did not sink in until after the purchase that this car is 2\" shorter than it's predecessor, with most of that coming off the rear passenger leg room,which is Critical TOYOTA!I often have my office associates with me, and they are big guys!Now they are cramped!Why would you make the flagship car.... SMALLER?If I wanted small, I would buy the Camry.And the front seat is narrower, and less comfortable.Front seat comfort of the Avalon has always been an issue; now it's much worse!(for the distance driver).\n",
            "\n"
          ]
        }
      ],
      "source": [
        "query = 'annoyance'\n",
        "print(f'Top scoring texts for: \"{query}\"\\n')\n",
        "scores = [s[query] for s in sentiments]\n",
        "arg_sort = np.argsort(-np.array(scores))\n",
        "for i in arg_sort[:5]:\n",
        "    print(scores[i])\n",
        "    print(sample_texts[i])\n",
        "    print('')"
      ]
    },
    {
      "cell_type": "code",
      "execution_count": 11,
      "id": "28ff9381",
      "metadata": {
        "id": "28ff9381",
        "colab": {
          "base_uri": "https://localhost:8080/"
        },
        "outputId": "af9cc554-796e-41f9-a4d3-1dbb73635fe3"
      },
      "outputs": [
        {
          "output_type": "stream",
          "name": "stdout",
          "text": [
            "Top scoring texts for: \"fear\"\n",
            "\n",
            "0.9927920479839639\n",
            " Would love 2009 Avalon except for one major problem.  At unexpected times after I brake the car begins to move forward.  This has happened to 3 different drivers.  I cannot stop this forward movement. It caused me to rear end another car at a band drive through.  Toyota dealers will not acknowledge problem since they cannot duplicate problem.  Car has 3000 miles on it and I am afraid to drive it. I have been told that I am the first person to report this in the U.S. I feel robbed. This is going to happen again.\n",
            "\n",
            "0.9297390076755588\n",
            " I paid $36,000 for my 2009 Avalon. I will not drive it. It has 3000 miles on it.  On 8 occasions the car has lurched forward after brakes were applied. One accident occurred costing me $500 deduct. I was in the bank line when the brakes failed. Car started moving forward.  Brakes would not stop the car.  Toyota dealers say they cannot find a problem. Both my husband and brother have experienced same problem driving this vehicle. Dealers say no other person has reported anything similar. The car is just too dangerous to drive.  I am lucky I have not been injured or have injured someone else.\n",
            "\n",
            "0.2952198232664005\n",
            " Bought the car new in March of 2016. I have bought 5 new and 4 used Toyotas in my life. This one has small problems Toyota won’t cover. There are 17 small tears in inch wide piece of defective leather Toyota wont replace under Warranty. I have spent well over$150,000 on Toyotas in my life and am afraid this will be the last. I have never had a problem with another manufacturer in my life. They should be embarrassed and ashamed. Said tears in leather is normal wear and tear on a $35,000.00 list  car with 16,000 miles on it. Good car but garbage company. Traded car in couldnt stand looking at ripped seat anymore. TSK TSK Toyota.\n",
            "\n",
            "0.05966929265384979\n",
            " Before buying this car I heard great things about Toyota vehicles from friends and family, so I decided hey I have to get one for myself.  What a joke, this car makes me sick!!! It has a very loud noise in the engine. I have taken it in too many times only to be told by the mechanic that he does not hear the noise. These guys must be deaf!!! The last mechanic told me that the noise is normal that the sound was in other cars he tested?! Transmission horrible to say the least not smooth at all. Sound system cannot be heard over noisy engine, brakes are terrible, problem with wipers, in all one of the worse vehicles I have ever owned. I can't wait to get rid of it!!!!!!\n",
            "\n",
            "0.025713307147268518\n",
            " Really got sucked in by the new and beautiful exterior of the 2013 Avalon.Only to find it so very uncomfortable compared to my 2011.Did not sink in until after the purchase that this car is 2\" shorter than it's predecessor, with most of that coming off the rear passenger leg room,which is Critical TOYOTA!I often have my office associates with me, and they are big guys!Now they are cramped!Why would you make the flagship car.... SMALLER?If I wanted small, I would buy the Camry.And the front seat is narrower, and less comfortable.Front seat comfort of the Avalon has always been an issue; now it's much worse!(for the distance driver).\n",
            "\n"
          ]
        }
      ],
      "source": [
        "query = 'fear'\n",
        "print(f'Top scoring texts for: \"{query}\"\\n')\n",
        "scores = [s[query] for s in sentiments]\n",
        "arg_sort = np.argsort(-np.array(scores))\n",
        "for i in arg_sort[:5]:\n",
        "    print(scores[i])\n",
        "    print(sample_texts[i])\n",
        "    print('')"
      ]
    },
    {
      "cell_type": "markdown",
      "id": "d76674c2",
      "metadata": {
        "id": "d76674c2"
      },
      "source": [
        "# Create a classification model"
      ]
    },
    {
      "cell_type": "code",
      "execution_count": 12,
      "id": "c79d4303",
      "metadata": {
        "id": "c79d4303",
        "colab": {
          "base_uri": "https://localhost:8080/"
        },
        "outputId": "49dcd324-70ca-47c5-9b21-bbfdb2d5a909"
      },
      "outputs": [
        {
          "output_type": "stream",
          "name": "stdout",
          "text": [
            "Creating project\n",
            "Training model\n",
            "Deploying model\n",
            "Model deployed\n"
          ]
        }
      ],
      "source": [
        "print('Creating project')\n",
        "class_project = api_client.create_project('nlp_classification', use_case='NLP_CLASSIFICATION')\n",
        "\n",
        "api_client.add_feature_group_to_project(\n",
        "    feature_group_id=feature_group, project_id=class_project, feature_group_type='DOCUMENTS'\n",
        ")\n",
        "\n",
        "class_project.set_feature_mapping(\n",
        "    feature_group_id=feature_group,\n",
        "    feature_name='review',\n",
        "    feature_mapping='DOCUMENT',\n",
        ")\n",
        "\n",
        "print('Training model')\n",
        "class_model = class_project.train_model(\n",
        "    name='classification_model_1',\n",
        "    training_config={\n",
        "        'zero_shot_hypotheses': [\n",
        "            'This text is about car speed / acceleration / slowness',\n",
        "            'This text is about car price / cost / value for money',\n",
        "            'This text is about car build quality',\n",
        "            'This text is about car seats',\n",
        "        ]\n",
        "    }\n",
        ")\n",
        "\n",
        "class_model = class_model.wait_for_full_automl()\n",
        "print('Deploying model')\n",
        "class_deployment = api_client.create_deployment(model_id=class_model)\n",
        "class_deployment = class_deployment.wait_for_deployment()\n",
        "class_deployment_token = class_project.create_deployment_token()\n",
        "class_deployment_id = class_deployment.deployment_id\n",
        "\n",
        "print('Model deployed')"
      ]
    },
    {
      "cell_type": "code",
      "execution_count": null,
      "id": "69a3c102",
      "metadata": {
        "id": "69a3c102",
        "colab": {
          "base_uri": "https://localhost:8080/"
        },
        "outputId": "e7d0ee6f-1f5f-4997-b15f-31215ac290b5"
      },
      "outputs": [
        {
          "output_type": "stream",
          "name": "stdout",
          "text": [
            "Predictions produced so far: 0\n"
          ]
        }
      ],
      "source": [
        "print('Testing prediction')\n",
        "client.get_classification(\n",
        "    deployment_token=class_deployment_token,\n",
        "    deployment_id=class_deployment_id,\n",
        "    document=\"This car is a bargain.\"\n",
        ")\n",
        "\n",
        "sample_texts = data['review'][:100]\n",
        "text_classifications = []\n",
        "\n",
        "text_to_prediction = {}\n",
        "\n",
        "print('Producing predictions')\n",
        "\n",
        "# Produce predictions in the background so we can do some analysis straight away\n",
        "\n",
        "def process_data(texts):\n",
        "    for text in texts:\n",
        "        text_to_prediction[text] = client.get_classification(\n",
        "            deployment_token=class_deployment_token,\n",
        "            deployment_id=class_deployment_id,\n",
        "            document=text,\n",
        "        )\n",
        "        \n",
        "thread = threading.Thread(target=process_data, args=(sample_texts,))\n",
        "thread.start()\n",
        "\n",
        "while len(text_to_prediction) < 20:\n",
        "    IPython.display.clear_output(wait=True)\n",
        "    print(f'Predictions produced so far: {len(text_to_prediction)}')\n",
        "    time.sleep(1)\n",
        "print('Example prediction:')\n",
        "list(text_to_prediction.values())[0]"
      ]
    },
    {
      "cell_type": "code",
      "execution_count": null,
      "id": "d8acbf22",
      "metadata": {
        "id": "d8acbf22"
      },
      "outputs": [],
      "source": [
        "predictions = []\n",
        "for text in sample_texts:\n",
        "    if text not in text_to_prediction:\n",
        "        break\n",
        "    else:\n",
        "        predictions.append(text_to_prediction[text])\n",
        "print(f'Predictions made so far: {len(predictions)}\\n')\n",
        "query = list(predictions[0].keys())[1]\n",
        "print(f'Top scoring texts for: \"{query}\"\\n')\n",
        "scores = [s[query] for s in predictions]\n",
        "arg_sort = np.argsort(-np.array(scores))\n",
        "for i in arg_sort[:5]:\n",
        "    print(f'Score = {scores[i]}')\n",
        "    print(sample_texts[i])\n",
        "    print('')"
      ]
    },
    {
      "cell_type": "markdown",
      "id": "f2973945",
      "metadata": {
        "id": "f2973945"
      },
      "source": [
        "# Build a named entity recognition (NER) model"
      ]
    },
    {
      "cell_type": "code",
      "execution_count": null,
      "id": "645be391",
      "metadata": {
        "id": "645be391"
      },
      "outputs": [],
      "source": [
        "ner_project = api_client.create_project('named_entity_recognition', use_case='NAMED_ENTITY_RECOGNITION')\n",
        "\n",
        "api_client.add_feature_group_to_project(\n",
        "    feature_group_id=feature_group, project_id=ner_project, feature_group_type='DOCUMENTS'\n",
        ")\n",
        "\n",
        "ner_project.set_feature_mapping(\n",
        "    feature_group_id=feature_group,\n",
        "    feature_name='review',\n",
        "    feature_mapping='DOCUMENT',\n",
        ")\n",
        "\n",
        "ner_model = ner_project.train_model(\n",
        "    name='ner_model_1',\n",
        "    training_config={'NER_MODEL_TYPE': \"pretrained uncased 43 categories\"}\n",
        ")\n",
        "\n",
        "ner_model.wait_for_full_automl()\n",
        "\n",
        "ner_deployment = api_client.create_deployment(model_id=ner_model)\n",
        "\n",
        "ner_deployment = ner_deployment.wait_for_deployment()\n",
        "\n",
        "ner_deployment_token = ner_project.create_deployment_token()\n",
        "\n",
        "ner_deployment_id = ner_deployment.deployment_id\n",
        "ner_deployment_token = ner_deployment_token\n",
        "\n",
        "client.get_labels(deployment_token=ner_deployment_token, deployment_id=ner_deployment_id, query_data={\"content\":\"I love my Toyota Camry!\"})"
      ]
    },
    {
      "cell_type": "code",
      "execution_count": null,
      "id": "17ed4a48",
      "metadata": {
        "id": "17ed4a48"
      },
      "outputs": [],
      "source": [
        "tqdm._instances.clear()\n",
        "sample_texts = data['review'][:100]\n",
        "annotations = [\n",
        "    client.get_labels(deployment_token=ner_deployment_token, deployment_id=ner_deployment_id, query_data={'content': text})['annotations']\n",
        "    for text in tqdm(sample_texts)\n",
        "]"
      ]
    },
    {
      "cell_type": "code",
      "execution_count": null,
      "id": "6aba53fd",
      "metadata": {
        "id": "6aba53fd"
      },
      "outputs": [],
      "source": [
        "label_counts = collections.Counter([anno['displayName'] for anno_list in annotations for anno in anno_list])\n",
        "label_counts.most_common(10)"
      ]
    },
    {
      "cell_type": "code",
      "execution_count": null,
      "id": "1411db68",
      "metadata": {
        "id": "1411db68"
      },
      "outputs": [],
      "source": [
        "product_counts = collections.Counter([anno['textExtraction']['textSegment']['phrase'].strip().lower()\n",
        "                                      for anno_list in annotations for anno in anno_list if anno['displayName'] == 'product'])\n",
        "product_counts.most_common(10)"
      ]
    },
    {
      "cell_type": "markdown",
      "id": "d70bd419",
      "metadata": {
        "id": "d70bd419"
      },
      "source": [
        "# Combined analysis using multiple models"
      ]
    },
    {
      "cell_type": "code",
      "execution_count": null,
      "id": "b460b843",
      "metadata": {
        "id": "b460b843"
      },
      "outputs": [],
      "source": [
        "# Filter using NER\n",
        "\n",
        "filtered_texts = [\n",
        "    text\n",
        "    for text, anno_list in zip(sample_texts, annotations)\n",
        "    if any([anno['displayName'] == 'product' and 'avalon' in anno['textExtraction']['textSegment']['phrase'].strip().lower()\n",
        "           for anno in anno_list])\n",
        "]\n",
        "len(filtered_texts)"
      ]
    },
    {
      "cell_type": "code",
      "execution_count": null,
      "id": "b2a30bde",
      "metadata": {
        "id": "b2a30bde"
      },
      "outputs": [],
      "source": [
        "# See top scores after the filter\n",
        "\n",
        "predictions = []\n",
        "for text in filtered_texts:\n",
        "    if text not in text_to_prediction:\n",
        "        break\n",
        "    else:\n",
        "        predictions.append(text_to_prediction[text])\n",
        "query = list(predictions[0].keys())[1]\n",
        "print(f'Top scoring texts for: \"{query}\"\\n')\n",
        "scores = [s[query] for s in predictions]\n",
        "arg_sort = np.argsort(-np.array(scores))\n",
        "for i in arg_sort[:5]:\n",
        "    print(scores[i])\n",
        "    print(filtered_texts[i])\n",
        "    print('')"
      ]
    }
  ],
  "metadata": {
    "kernelspec": {
      "display_name": "Python 3 (ipykernel)",
      "language": "python",
      "name": "python3"
    },
    "language_info": {
      "codemirror_mode": {
        "name": "ipython",
        "version": 3
      },
      "file_extension": ".py",
      "mimetype": "text/x-python",
      "name": "python",
      "nbconvert_exporter": "python",
      "pygments_lexer": "ipython3",
      "version": "3.8.10"
    },
    "colab": {
      "name": "2022-05-17-abacus-nlp-workshop.ipynb",
      "provenance": []
    },
    "accelerator": "GPU"
  },
  "nbformat": 4,
  "nbformat_minor": 5
}